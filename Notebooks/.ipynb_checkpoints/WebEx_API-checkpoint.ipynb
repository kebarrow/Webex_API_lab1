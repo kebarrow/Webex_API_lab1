{
  "nbformat": 4,
  "nbformat_minor": 0,
  "metadata": {
    "colab": {
      "name": "WebEx API.ipynb",
      "provenance": []
    },
    "kernelspec": {
      "name": "python3",
      "display_name": "Python 3"
    }
  },
  "cells": [
    {
      "cell_type": "code",
      "metadata": {
        "id": "ECNvqMyWhPFr"
      },
      "source": [
        "client_id = 'Cedb8a496ac0eeec3f89dfc7fa71e7f15ccfa0a1be2c7d58bb32a1f4e78b76b8a'\n",
        "redirect_uri = 'https://www.test.com'\n",
        "client_secret = '06662a7843d8cee11c525f96ebb9d8db0506f3f9dc91d84d35aba597f5439437'\n",
        "scopes = 'spark:all spark:kms spark-admin:devices_read spark-admin:devices_write spark-admin:workspaces_read spark-admin:workspaces_write identity:placeonetimepassword_create'"
      ],
      "execution_count": null,
      "outputs": []
    },
    {
      "cell_type": "code",
      "metadata": {
        "colab": {
          "base_uri": "https://localhost:8080/"
        },
        "id": "CryvzEOHh_Kc",
        "outputId": "fb1aa98c-f1ee-4b2d-a26e-4a51d6311c46"
      },
      "source": [
        "# we need the help from an external Python libraries\n",
        "import urllib.parse\n",
        "import uuid\n",
        "\n",
        "base_url = 'https://api.ciscospark.com/v1/authorize'\n",
        "\n",
        "state = str(uuid.uuid4())   # some random UUID\n",
        "print(f'State: {state}')\n",
        "\n",
        "# prepare a dictionary with all parameters we need to encode in the URL\n",
        "data = {\n",
        "    'client_id' : client_id,\n",
        "    'response_type' : 'code',\n",
        "    'redirect_uri' : redirect_uri,\n",
        "    'scope' : scopes,\n",
        "    'state' : state\n",
        "}\n",
        "\n",
        "# this gets us a url encoded query string\n",
        "query = urllib.parse.urlencode(data, quote_via=urllib.parse.quote)\n",
        "\n",
        "# .. which we then finally combine with the base url\n",
        "url = f'{base_url}?{query}'\n",
        "print(url)"
      ],
      "execution_count": null,
      "outputs": [
        {
          "output_type": "stream",
          "text": [
            "State: e62f135c-7805-4c18-b159-9cee1cd8de82\n",
            "https://api.ciscospark.com/v1/authorize?client_id=Cedb8a496ac0eeec3f89dfc7fa71e7f15ccfa0a1be2c7d58bb32a1f4e78b76b8a&response_type=code&redirect_uri=https%3A%2F%2Fwww.test.com&scope=spark%3Aall%20spark%3Akms%20spark-admin%3Adevices_read%20spark-admin%3Adevices_write%20spark-admin%3Aworkspaces_read%20spark-admin%3Aworkspaces_write%20identity%3Aplaceonetimepassword_create&state=e62f135c-7805-4c18-b159-9cee1cd8de82\n"
          ],
          "name": "stdout"
        }
      ]
    },
    {
      "cell_type": "code",
      "metadata": {
        "colab": {
          "base_uri": "https://localhost:8080/"
        },
        "id": "28Pd3SIS68pK",
        "outputId": "0add361b-7dca-4e14-954b-9a50dc337b79"
      },
      "source": [
        "last_redirect = 'https://www.test.com/?code=N2ZhYzdjNGUtODg5Zi00N2Y3LWIxZTAtZmFjY2IzOGNjMmMxNzY5NzU2MWUtMTI1_PE93_2ee28f49-58ca-4efb-93fb-da3088a37756&state=e62f135c-7805-4c18-b159-9cee1cd8de82'\n",
        "# 1st we parse the URL. We are only interested in the query string\n",
        "query = urllib.parse.urlparse(last_redirect).query\n",
        "\n",
        "# then we parse the query string and get a dictionary with key/value pairs\n",
        "query = urllib.parse.parse_qs(query)\n",
        "\n",
        "# from that dictionary we finally extract the code\n",
        "code = query['code'][0]\n",
        "state = query['state'][0]\n",
        "\n",
        "print(f'Code: {code}')\n",
        "print(f'State (same as in the request above!): {state}')"
      ],
      "execution_count": null,
      "outputs": [
        {
          "output_type": "stream",
          "text": [
            "Code: N2ZhYzdjNGUtODg5Zi00N2Y3LWIxZTAtZmFjY2IzOGNjMmMxNzY5NzU2MWUtMTI1_PE93_2ee28f49-58ca-4efb-93fb-da3088a37756\n",
            "State (same as in the request above!): e62f135c-7805-4c18-b159-9cee1cd8de82\n"
          ],
          "name": "stdout"
        }
      ]
    },
    {
      "cell_type": "code",
      "metadata": {
        "colab": {
          "base_uri": "https://localhost:8080/"
        },
        "id": "Th03M455vN_7",
        "outputId": "a963073d-4aa5-4694-c886-3b5a07000770"
      },
      "source": [
        "!pip install schedule\n",
        "import requests\n",
        "import json\n",
        "import schedule\n"
      ],
      "execution_count": null,
      "outputs": [
        {
          "output_type": "stream",
          "text": [
            "Collecting schedule\n",
            "  Downloading https://files.pythonhosted.org/packages/43/8c/74529fcfbfaa93b8e88ba5d7f883805f87ee167ad878d0638cc012e5acc0/schedule-1.0.0-py2.py3-none-any.whl\n",
            "Installing collected packages: schedule\n",
            "Successfully installed schedule-1.0.0\n"
          ],
          "name": "stdout"
        }
      ]
    },
    {
      "cell_type": "code",
      "metadata": {
        "id": "U93ddUcmjuFD"
      },
      "source": [
        "class WebExClient:\n",
        "  def __init__(self, client_id, client_secret, code, redirect_uri):\n",
        "    self.client_id = client_id\n",
        "    self.client_secret = client_secret\n",
        "    self.code = code\n",
        "    self.redirect_uri = redirect_uri\n",
        "    self.access_token = None\n",
        "    self.refresh_token = None\n",
        "    print(\"Getting Access & Refresh Token...\")\n",
        "    self.get_access_token()\n",
        "    schedule.every().monday.do(self.get_access_token, True)\n",
        "    print(\"Successful!\")\n",
        "\n",
        "\n",
        "  def get_access_token(self, refresh=False):\n",
        "    \n",
        "    access_token_url = 'https://webexapis.com/v1/access_token'\n",
        "\n",
        "    if refresh:\n",
        "      params = {\n",
        "        'grant_type' : 'refresh_token',\n",
        "        'client_id' : self.client_id,\n",
        "        'client_secret' : self.client_secret,\n",
        "        'refresh_token' : self.refresh_token\n",
        "          }\n",
        "    else:\n",
        "      params = {\n",
        "        'grant_type' : 'authorization_code',\n",
        "        'client_id' : self.client_id,\n",
        "        'client_secret' : self.client_secret,\n",
        "        'code' : self.code,\n",
        "        'redirect_uri' : self.redirect_uri\n",
        "        }\n",
        "\n",
        "    r = requests.post(access_token_url, json = params).json()\n",
        "\n",
        "    if r.get('errors'):\n",
        "      error = r['errors'][0]\n",
        "      print(f'Failed to get access token: {error[\"description\"]}')\n",
        "    else:\n",
        "      self.access_token = r['access_token']\n",
        "      self.refresh_token = r['refresh_token']\n",
        "\n",
        "\n",
        "  def show_stats(self):\n",
        "    url = 'https://webexapis.com/v1/people/me'\n",
        "\n",
        "    # authorization is achieved by passing the access token in an authorization header\n",
        "    headers = {'Authorization' : f'Bearer {self.access_token}',\n",
        "              'Content-type' : 'application/json; charset=utf-8'}\n",
        "\n",
        "    r = requests.get(url, headers=headers)\n",
        "    return r.json()\n",
        "\n",
        "\n",
        "  def get_spaces(self, search_title=None, max_spaces = 100, spaces_type='direct',sort_by='lastactivity'):\n",
        "\n",
        "    url = 'https://webexapis.com/v1/rooms'\n",
        "\n",
        "    params = {\n",
        "        'max': max_spaces, \n",
        "        'type' : spaces_type,\n",
        "        'sortBy': sort_by\n",
        "    }\n",
        "\n",
        "    # authorization is achieved by passing the access token in an authorization header\n",
        "    headers = {'Authorization' : f'Bearer {self.access_token}',\n",
        "              'Content-type' : 'application/json; charset=utf-8'}\n",
        "\n",
        "    r = requests.get(url, params=params, headers=headers)\n",
        "\n",
        "    # raise an exception in case the request failed\n",
        "    r.raise_for_status()\n",
        "    \n",
        "    # use the json() method of the response object to get the response\n",
        "    r = r.json()\n",
        "\n",
        "    spaces = r['items']\n",
        "\n",
        "    if search_title:\n",
        "      titles = [s['title'] for s in spaces]\n",
        "      titles = [t for t in titles if search_title in t]\n",
        "      titles.sort()\n",
        "      title_details = [s for s in spaces if s['title'] in titles]\n",
        "      return titles_details\n",
        "    else:\n",
        "      return spaces\n",
        "\n",
        "\n",
        "  def post_message(self, space = None, text = None, markdown = None, files = None):\n",
        "\n",
        "    params = {}\n",
        "\n",
        "    if text is not None:\n",
        "          params['text'] = text\n",
        "    if markdown is not None:\n",
        "        params['markdown'] = markdown\n",
        "    if files is not None:\n",
        "        params['files'] = files\n",
        "\n",
        "    headers = {\n",
        "    'Authorization' : f'Bearer {self.access_token}',\n",
        "    'Content-Type' : 'application/json; charset=utf-8'\n",
        "    }\n",
        "\n",
        "    url = 'https://webexapis.com/v1/messages'\n",
        "\n",
        "    if isinstance(space, list):\n",
        "      for s in space:\n",
        "        params['roomId'] = s['id']\n",
        "          # the endpoint requires a POST and the parameters are passed as JSON in the body\n",
        "        r = requests.post(url, json=params, headers=headers)\n",
        "    else:\n",
        "      params['roomId'] = space['id']\n",
        "          # the endpoint requires a POST and the parameters are passed as JSON in the body\n",
        "      r = requests.post(url, json=params, headers=headers)\n",
        "\n",
        "\n",
        "  def list_messages(self, space, **kwargs):\n",
        "    \n",
        "    url = 'https://webexapis.com/v1/messages'\n",
        "    params = {'roomId' : space['id']}\n",
        "\n",
        "    for item, val in kwargs.items():\n",
        "      # parentId=None, mentionedPeople=None, before=None, beforeMessage=None, max=None\n",
        "      params[item] = value\n",
        "\n",
        "    headers = {\n",
        "        'Authorization' : f'Bearer {self.access_token}',\n",
        "        'Content-Type' : 'application/json; charset=utf-8'\n",
        "    }\n",
        "    r = requests.get(url, params=params, headers=headers)\n",
        "\n",
        "    return r.json()"
      ],
      "execution_count": null,
      "outputs": []
    },
    {
      "cell_type": "code",
      "metadata": {
        "colab": {
          "base_uri": "https://localhost:8080/"
        },
        "id": "8IE2IWjq6blV",
        "outputId": "43d66f7b-77d5-465e-af60-48d5efb582d7"
      },
      "source": [
        "client = WebExClient(client_id, client_secret, code, redirect_uri)"
      ],
      "execution_count": null,
      "outputs": [
        {
          "output_type": "stream",
          "text": [
            "Getting Access & Refresh Token...\n",
            "Successful!\n"
          ],
          "name": "stdout"
        }
      ]
    },
    {
      "cell_type": "code",
      "metadata": {
        "colab": {
          "base_uri": "https://localhost:8080/",
          "height": 35
        },
        "id": "ioKDzdGtdt6X",
        "outputId": "7959e062-d0d0-4a4d-c665-8e28dbd5fc66"
      },
      "source": [
        "client.access_token"
      ],
      "execution_count": null,
      "outputs": [
        {
          "output_type": "execute_result",
          "data": {
            "application/vnd.google.colaboratory.intrinsic+json": {
              "type": "string"
            },
            "text/plain": [
              "'MDkyYTM2ZDAtZGI3Yy00YWE4LTkyMmUtMDRkNzM4OWU1YTE5NjVlODA1NzctNmE0_PE93_2ee28f49-58ca-4efb-93fb-da3088a37756'"
            ]
          },
          "metadata": {
            "tags": []
          },
          "execution_count": 43
        }
      ]
    },
    {
      "cell_type": "code",
      "metadata": {
        "id": "stdc4V13nC7u",
        "colab": {
          "base_uri": "https://localhost:8080/"
        },
        "outputId": "ed0cef2e-2c18-4ec0-a499-1a0cf510d8f6"
      },
      "source": [
        "spaces = client.get_spaces(spaces_type='')\n",
        "spaces"
      ],
      "execution_count": null,
      "outputs": [
        {
          "output_type": "execute_result",
          "data": {
            "text/plain": [
              "[{'created': '2021-02-18T11:43:41.401Z',\n",
              "  'creatorId': 'Y2lzY29zcGFyazovL3VzL1BFT1BMRS83ODUxZTA2ZC0yM2JkLTRjMDktODE5YS1hZGExNTU0ZTFiNGM',\n",
              "  'id': 'Y2lzY29zcGFyazovL3VybjpURUFNOmV1LWNlbnRyYWwtMV9rL1JPT00vOGMzNmM0OTAtNzFkZS0xMWViLThhNDktMDc1YjQwNmVmNGI1',\n",
              "  'isLocked': False,\n",
              "  'lastActivity': '2021-02-18T11:43:41.401Z',\n",
              "  'ownerId': 'Y2lzY29zcGFyazovL3VzL09SR0FOSVpBVElPTi8yZWUyOGY0OS01OGNhLTRlZmItOTNmYi1kYTMwODhhMzc3NTY',\n",
              "  'title': 'Test Space',\n",
              "  'type': 'group'},\n",
              " {'created': '2021-01-11T04:53:25.398Z',\n",
              "  'creatorId': 'Y2lzY29zcGFyazovL3VzL1BFT1BMRS9jZWVhZmIyMi04MzJhLTRiMjctOGQ4YS03MjkzZGQyY2M3ZGQ',\n",
              "  'id': 'Y2lzY29zcGFyazovL3VybjpURUFNOmV1LWNlbnRyYWwtMV9rL1JPT00vZGU1NGEzYWQtYTIwNi0zYTNmLWI3OWEtMDlmNzQxNjM0YjAy',\n",
              "  'isLocked': False,\n",
              "  'lastActivity': '2021-02-18T11:30:25.428Z',\n",
              "  'ownerId': 'Y2lzY29zcGFyazovL3VzL09SR0FOSVpBVElPTi8yZWUyOGY0OS01OGNhLTRlZmItOTNmYi1kYTMwODhhMzc3NTY',\n",
              "  'title': 'Umam ali',\n",
              "  'type': 'direct'},\n",
              " {'created': '2021-01-12T04:28:39.652Z',\n",
              "  'creatorId': 'Y2lzY29zcGFyazovL3VzL1BFT1BMRS9jZDRmMTkzNi05ZTc3LTQ5YTgtOGYyZS1mNDRmNWFiNjI3YmE',\n",
              "  'id': 'Y2lzY29zcGFyazovL3VybjpURUFNOmV1LWNlbnRyYWwtMV9rL1JPT00vOTNlOWVmNmQtMDk5MS0zYTc2LTlmMjQtMzA4NDI1NDM4NGE5',\n",
              "  'isLocked': False,\n",
              "  'lastActivity': '2021-02-18T11:30:24.898Z',\n",
              "  'ownerId': 'Y2lzY29zcGFyazovL3VzL09SR0FOSVpBVElPTi8yZWUyOGY0OS01OGNhLTRlZmItOTNmYi1kYTMwODhhMzc3NTY',\n",
              "  'title': 'mubeen',\n",
              "  'type': 'direct'},\n",
              " {'created': '2021-01-10T14:39:56.460Z',\n",
              "  'creatorId': 'Y2lzY29zcGFyazovL3VzL1BFT1BMRS82MTYyYzNmZS01NTRhLTQ2Y2EtODFiNC0wZjMxZmRmMjgyMTA',\n",
              "  'id': 'Y2lzY29zcGFyazovL3VybjpURUFNOmV1LWNlbnRyYWwtMV9rL1JPT00vMzY3Y2NlZTgtN2UyNC0zOGEyLWI2NjYtZGY1YWU2NTRjYjJm',\n",
              "  'isLocked': False,\n",
              "  'lastActivity': '2021-02-18T11:30:23.800Z',\n",
              "  'ownerId': 'Y2lzY29zcGFyazovL3VzL09SR0FOSVpBVElPTi8yZWUyOGY0OS01OGNhLTRlZmItOTNmYi1kYTMwODhhMzc3NTY',\n",
              "  'title': 'Omer.ilyas',\n",
              "  'type': 'direct'},\n",
              " {'created': '2021-01-10T16:51:06.442Z',\n",
              "  'creatorId': 'Y2lzY29zcGFyazovL3VzL1BFT1BMRS82MTYyYzNmZS01NTRhLTQ2Y2EtODFiNC0wZjMxZmRmMjgyMTA',\n",
              "  'id': 'Y2lzY29zcGFyazovL3VybjpURUFNOmV1LWNlbnRyYWwtMV9rL1JPT00vMDgzNDZhYTAtNTM2NC0xMWViLWJmYTctMjk5Yzg2NzA1MzI0',\n",
              "  'isLocked': False,\n",
              "  'lastActivity': '2021-02-17T21:26:30.099Z',\n",
              "  'ownerId': 'Y2lzY29zcGFyazovL3VzL09SR0FOSVpBVElPTi8yZWUyOGY0OS01OGNhLTRlZmItOTNmYi1kYTMwODhhMzc3NTY',\n",
              "  'title': 'Developer Space',\n",
              "  'type': 'group'},\n",
              " {'created': '2021-01-31T16:31:53.031Z',\n",
              "  'creatorId': 'Y2lzY29zcGFyazovL3VzL1BFT1BMRS82MTYyYzNmZS01NTRhLTQ2Y2EtODFiNC0wZjMxZmRmMjgyMTA',\n",
              "  'id': 'Y2lzY29zcGFyazovL3VybjpURUFNOmV1LWNlbnRyYWwtMV9rL1JPT00vZDM2NDlkNzAtNjNlMS0xMWViLTgxYzYtMDM1ZTk4ZTJkMDc0',\n",
              "  'isLocked': False,\n",
              "  'lastActivity': '2021-02-10T23:53:29.438Z',\n",
              "  'ownerId': 'Y2lzY29zcGFyazovL3VzL09SR0FOSVpBVElPTi8yZWUyOGY0OS01OGNhLTRlZmItOTNmYi1kYTMwODhhMzc3NTY',\n",
              "  'title': 'Technical Conversation ONLY',\n",
              "  'type': 'group'},\n",
              " {'created': '2020-12-30T21:21:01.189Z',\n",
              "  'creatorId': 'Y2lzY29zcGFyazovL3VzL1BFT1BMRS82MTYyYzNmZS01NTRhLTQ2Y2EtODFiNC0wZjMxZmRmMjgyMTA',\n",
              "  'id': 'Y2lzY29zcGFyazovL3VybjpURUFNOmV1LWNlbnRyYWwtMV9rL1JPT00vZWE3YjczNTAtNGFlNC0xMWViLWIzMjYtN2YwY2ZmYmQ2NDA4',\n",
              "  'isLocked': True,\n",
              "  'lastActivity': '2021-01-12T23:51:58.222Z',\n",
              "  'ownerId': 'Y2lzY29zcGFyazovL3VzL09SR0FOSVpBVElPTi8yZWUyOGY0OS01OGNhLTRlZmItOTNmYi1kYTMwODhhMzc3NTY',\n",
              "  'title': 'Developers',\n",
              "  'type': 'group'}]"
            ]
          },
          "metadata": {
            "tags": []
          },
          "execution_count": 49
        }
      ]
    },
    {
      "cell_type": "code",
      "metadata": {
        "id": "1Q1b6P9--_3h",
        "colab": {
          "base_uri": "https://localhost:8080/"
        },
        "outputId": "848395cb-fc99-4073-8849-af0290c9ed99"
      },
      "source": [
        "client.list_messages(r)"
      ],
      "execution_count": null,
      "outputs": [
        {
          "output_type": "execute_result",
          "data": {
            "text/plain": [
              "{'errors': [{'description': 'The requested resource could not be found.'}],\n",
              " 'message': 'The requested resource could not be found.',\n",
              " 'trackingId': 'ROUTER_602E549D-F5FA-01BB-0200-AC12DC780200'}"
            ]
          },
          "metadata": {
            "tags": []
          },
          "execution_count": 52
        }
      ]
    },
    {
      "cell_type": "code",
      "metadata": {
        "id": "UXJI0q32ESFc"
      },
      "source": [
        "text = 'This is a bot message. Kindly ignore it.'\n",
        "client.post_message(spaces, text=text)"
      ],
      "execution_count": null,
      "outputs": []
    },
    {
      "cell_type": "code",
      "metadata": {
        "id": "8xJXhSwWssYA"
      },
      "source": [
        "import jwt\n",
        "import base64\n",
        "import datetime"
      ],
      "execution_count": null,
      "outputs": []
    },
    {
      "cell_type": "code",
      "metadata": {
        "colab": {
          "base_uri": "https://localhost:8080/"
        },
        "id": "LqJkMEKO1Whx",
        "outputId": "f8a66b1b-522b-41a6-ed3a-5c369731ed39"
      },
      "source": [
        "!pip install PyJWT"
      ],
      "execution_count": null,
      "outputs": [
        {
          "output_type": "stream",
          "text": [
            "Collecting PyJWT\n",
            "  Downloading https://files.pythonhosted.org/packages/b4/9b/8850f99027ed029af6828199cc87179eaccbbf1f9e6e373e7f0177d32dad/PyJWT-2.0.1-py3-none-any.whl\n",
            "Installing collected packages: PyJWT\n",
            "Successfully installed PyJWT-2.0.1\n"
          ],
          "name": "stdout"
        }
      ]
    },
    {
      "cell_type": "code",
      "metadata": {
        "id": "ODpI8LubAcDI"
      },
      "source": [
        "header = {\n",
        "  \"typ\": \"JWT\",\n",
        "  \"alg\": \"HS256\"\n",
        "}\n",
        "\n",
        "payload = {\n",
        "  \"sub\": \"guest-user-7349\",\n",
        "  \"name\": \"Test\",\n",
        "  \"iss\": \"Y2lzY29zcGFyazovL3VybjpURUFNOmV1LWNlbnRyYWwtMV9rL09SR0FOSVpBVElPTi8xNTU0MDJmNi1jNjA5LTQzMGItOGI4ZC03ZjI1YmJmNTBiMWE\",\n",
        "  \"exp\": datetime.datetime.utcnow() + datetime.timedelta(seconds=10)\n",
        "}"
      ],
      "execution_count": null,
      "outputs": []
    },
    {
      "cell_type": "code",
      "metadata": {
        "id": "sJL5jgbE1hcr"
      },
      "source": [
        "secret = base64.b64decode('E4iRS1gxZgLpOFQZMzSwQAFsH2g5wkr7KVCoAiZSEB0=')\n",
        "encoded = jwt.encode(payload, secret, algorithm=\"HS256\", headers=header)"
      ],
      "execution_count": null,
      "outputs": []
    },
    {
      "cell_type": "code",
      "metadata": {
        "colab": {
          "base_uri": "https://localhost:8080/"
        },
        "id": "BAVYHEHxvIbb",
        "outputId": "e3f7b9d3-8ebe-46f4-9f04-2e3db6d7e6fb"
      },
      "source": [
        "url = 'https://webexapis.com/v1/jwt/login'\n",
        "headers = {'Authorization' : f'Bearer {encoded}'}\n",
        "\n",
        "r = requests.post(url, headers=headers).json()\n",
        "print(r)"
      ],
      "execution_count": null,
      "outputs": [
        {
          "output_type": "stream",
          "text": [
            "{'token': 'NzY4YjQwMTgtYjU0MC00YjllLThmNDctMjNmZThmNjU3MWFhNzQ2YzMzYWEtMDI4_PE93_155402f6-c609-430b-8b8d-7f25bbf50b1a', 'expiresIn': 1209599}\n"
          ],
          "name": "stdout"
        }
      ]
    },
    {
      "cell_type": "code",
      "metadata": {
        "id": "bHKJxV8VwJfe",
        "colab": {
          "base_uri": "https://localhost:8080/",
          "height": 180
        },
        "outputId": "4f2aec24-3438-47ff-da4b-7bcd485a7e35"
      },
      "source": [
        "token = r['token']"
      ],
      "execution_count": null,
      "outputs": [
        {
          "output_type": "error",
          "ename": "TypeError",
          "evalue": "ignored",
          "traceback": [
            "\u001b[0;31m---------------------------------------------------------------------------\u001b[0m",
            "\u001b[0;31mTypeError\u001b[0m                                 Traceback (most recent call last)",
            "\u001b[0;32m<ipython-input-44-fd72d124076d>\u001b[0m in \u001b[0;36m<module>\u001b[0;34m()\u001b[0m\n\u001b[0;32m----> 1\u001b[0;31m \u001b[0mtoken\u001b[0m \u001b[0;34m=\u001b[0m \u001b[0mr\u001b[0m\u001b[0;34m[\u001b[0m\u001b[0;34m'token'\u001b[0m\u001b[0;34m]\u001b[0m\u001b[0;34m\u001b[0m\u001b[0;34m\u001b[0m\u001b[0m\n\u001b[0m\u001b[1;32m      2\u001b[0m \u001b[0mtoken\u001b[0m\u001b[0;34m\u001b[0m\u001b[0;34m\u001b[0m\u001b[0m\n",
            "\u001b[0;31mTypeError\u001b[0m: 'Response' object is not subscriptable"
          ]
        }
      ]
    },
    {
      "cell_type": "code",
      "metadata": {
        "colab": {
          "base_uri": "https://localhost:8080/"
        },
        "id": "Bf-XR1VC4ean",
        "outputId": "04423adf-08d2-4d74-9c78-8e72d6c540a5"
      },
      "source": [
        "secret = base64.b64decode('E4iRS1gxZgLpOFQZMzSwQAFsH2g5wkr7KVCoAiZSEB0=')"
      ],
      "execution_count": null,
      "outputs": [
        {
          "output_type": "execute_result",
          "data": {
            "text/plain": [
              "b'\\x13\\x88\\x91KX1f\\x02\\xe98T\\x1934\\xb0@\\x01l\\x1fh9\\xc2J\\xfb)P\\xa8\\x02&R\\x10\\x1d'"
            ]
          },
          "metadata": {
            "tags": []
          },
          "execution_count": 33
        }
      ]
    },
    {
      "cell_type": "code",
      "metadata": {
        "colab": {
          "base_uri": "https://localhost:8080/"
        },
        "id": "IbRIhl685R0i",
        "outputId": "f88b5b57-9ceb-4977-e4ed-6c03e2f911a0"
      },
      "source": [
        "url = 'https://webexapis.com/v1/messages'\n",
        "\n",
        "# authorization is achieved by passing the access token in an authorization header\n",
        "headers = {'Authorization' : f'Bearer {client.access_token}',\n",
        "          'Content-type' : 'application/json; charset=utf-8'}\n",
        "\n",
        "params = {'roomId' : 'Y2lzY29zcGFyazovL3VybjpURUFNOmV1LWNlbnRyYWwtMV9rL1JPT00vYmU1ZmY5ODAtMWU3Ny0zMTlkLWE2NjQtNjg3NjExYzFkYjIy'}\n",
        "r = requests.get(url, params=params, headers=headers)\n",
        "\n",
        "# use the json() method of the response object to get the response\n",
        "r = r.json()\n",
        "r"
      ],
      "execution_count": null,
      "outputs": [
        {
          "output_type": "execute_result",
          "data": {
            "text/plain": [
              "{'errors': [{'description': 'message not found'}],\n",
              " 'message': 'message not found',\n",
              " 'trackingId': 'ROUTER_602F972E-87AC-01BB-03CF-AC12D8B403CF'}"
            ]
          },
          "metadata": {
            "tags": []
          },
          "execution_count": 14
        }
      ]
    },
    {
      "cell_type": "code",
      "metadata": {
        "id": "yTfnjeqx63hL",
        "colab": {
          "base_uri": "https://localhost:8080/",
          "height": 35
        },
        "outputId": "84bc95b3-02a8-4c55-f625-0e31d40121c5"
      },
      "source": [
        "spaces[0]['id']"
      ],
      "execution_count": null,
      "outputs": [
        {
          "output_type": "execute_result",
          "data": {
            "application/vnd.google.colaboratory.intrinsic+json": {
              "type": "string"
            },
            "text/plain": [
              "'Y2lzY29zcGFyazovL3VybjpURUFNOmV1LWNlbnRyYWwtMV9rL1JPT00vMzY3Y2NlZTgtN2UyNC0zOGEyLWI2NjYtZGY1YWU2NTRjYjJm'"
            ]
          },
          "metadata": {
            "tags": []
          },
          "execution_count": 45
        }
      ]
    },
    {
      "cell_type": "code",
      "metadata": {
        "colab": {
          "base_uri": "https://localhost:8080/"
        },
        "id": "1lB9uSgm8P5K",
        "outputId": "91167025-1da5-417d-89d9-7af46c4f98f6"
      },
      "source": [
        "headers = {\n",
        "    'Authorization' : f'Bearer {token}',\n",
        "    'Content-Type' : 'application/json; charset=utf-8'\n",
        "    }\n",
        "\n",
        "url = 'https://webexapis.com/v1/messages'\n",
        "\n",
        "\n",
        "params = {\n",
        "    'toPersonEmail' : 'faizan.fareed@boldbetz.com',\n",
        "    'text' : 'This is a guest user.'\n",
        "}\n",
        "    # the endpoint requires a POST and the parameters are passed as JSON in the body\n",
        "r = requests.get(url, headers=headers)\n",
        "print(r.json())"
      ],
      "execution_count": null,
      "outputs": [
        {
          "output_type": "stream",
          "text": [
            "{'message': \"Required String parameter 'roomId' is not present\", 'errors': [{'description': \"Required String parameter 'roomId' is not present\"}], 'trackingId': 'ROUTER_602E58E9-BA84-01BB-01B8-AC12F83801B8'}\n"
          ],
          "name": "stdout"
        }
      ]
    },
    {
      "cell_type": "code",
      "metadata": {
        "colab": {
          "base_uri": "https://localhost:8080/"
        },
        "id": "QEsjec0SAPof",
        "outputId": "79664053-e6d5-4981-bf19-355e39b7a5d0"
      },
      "source": [
        "url = 'https://webexapis.com/v1/rooms'\n",
        "\n",
        "params = {\n",
        "}\n",
        "\n",
        "# authorization is achieved by passing the access token in an authorization header\n",
        "headers = {'Authorization' : f'Bearer {client.access_token}',\n",
        "          'Content-type' : 'application/json; charset=utf-8'}\n",
        "\n",
        "r = requests.get(url, headers=headers)\n",
        "\n",
        "# raise an exception in case the request failed\n",
        "r.raise_for_status()\n",
        "\n",
        "# use the json() method of the response object to get the response\n",
        "r = r.json()\n",
        "r"
      ],
      "execution_count": null,
      "outputs": [
        {
          "output_type": "execute_result",
          "data": {
            "text/plain": [
              "{'items': [{'created': '2021-02-18T14:14:37.349Z',\n",
              "   'creatorId': 'Y2lzY29zcGFyazovL3VzL1BFT1BMRS83ODUxZTA2ZC0yM2JkLTRjMDktODE5YS1hZGExNTU0ZTFiNGM',\n",
              "   'id': 'Y2lzY29zcGFyazovL3VybjpURUFNOmV1LWNlbnRyYWwtMV9rL1JPT00vYTFmYWM1NTAtNzFmMy0xMWViLTk4ODctM2I4M2U1MzQ2YWFj',\n",
              "   'isLocked': False,\n",
              "   'lastActivity': '2021-02-18T14:40:37.325Z',\n",
              "   'ownerId': 'Y2lzY29zcGFyazovL3VzL09SR0FOSVpBVElPTi8yZWUyOGY0OS01OGNhLTRlZmItOTNmYi1kYTMwODhhMzc3NTY',\n",
              "   'title': 'Test Room',\n",
              "   'type': 'group'},\n",
              "  {'created': '2021-02-18T12:08:11.014Z',\n",
              "   'creatorId': 'Y2lzY29zcGFyazovL3VzL1BFT1BMRS9jMjE3MzU4My1lOTE5LTQ5MzktOGUwMC01MWU0ODk4MDhkY2E',\n",
              "   'id': 'Y2lzY29zcGFyazovL3VybjpURUFNOmV1LWNlbnRyYWwtMV9rL1JPT00vMzY3YjAzMDUtMmIzYS0zMWVkLWE3ZmEtYzQwMmZmNjQ2YTli',\n",
              "   'isLocked': False,\n",
              "   'lastActivity': '2021-02-18T12:08:13.775Z',\n",
              "   'title': 'Test',\n",
              "   'type': 'direct'},\n",
              "  {'created': '2021-02-18T11:43:41.401Z',\n",
              "   'creatorId': 'Y2lzY29zcGFyazovL3VzL1BFT1BMRS83ODUxZTA2ZC0yM2JkLTRjMDktODE5YS1hZGExNTU0ZTFiNGM',\n",
              "   'id': 'Y2lzY29zcGFyazovL3VybjpURUFNOmV1LWNlbnRyYWwtMV9rL1JPT00vOGMzNmM0OTAtNzFkZS0xMWViLThhNDktMDc1YjQwNmVmNGI1',\n",
              "   'isLocked': False,\n",
              "   'lastActivity': '2021-02-18T11:43:41.401Z',\n",
              "   'ownerId': 'Y2lzY29zcGFyazovL3VzL09SR0FOSVpBVElPTi8yZWUyOGY0OS01OGNhLTRlZmItOTNmYi1kYTMwODhhMzc3NTY',\n",
              "   'title': 'Test Space',\n",
              "   'type': 'group'},\n",
              "  {'created': '2021-01-31T16:31:53.031Z',\n",
              "   'creatorId': 'Y2lzY29zcGFyazovL3VzL1BFT1BMRS82MTYyYzNmZS01NTRhLTQ2Y2EtODFiNC0wZjMxZmRmMjgyMTA',\n",
              "   'id': 'Y2lzY29zcGFyazovL3VybjpURUFNOmV1LWNlbnRyYWwtMV9rL1JPT00vZDM2NDlkNzAtNjNlMS0xMWViLTgxYzYtMDM1ZTk4ZTJkMDc0',\n",
              "   'isLocked': False,\n",
              "   'lastActivity': '2021-02-18T17:04:59.140Z',\n",
              "   'ownerId': 'Y2lzY29zcGFyazovL3VzL09SR0FOSVpBVElPTi8yZWUyOGY0OS01OGNhLTRlZmItOTNmYi1kYTMwODhhMzc3NTY',\n",
              "   'title': 'Technical Conversation ONLY',\n",
              "   'type': 'group'},\n",
              "  {'created': '2021-01-12T04:28:39.652Z',\n",
              "   'creatorId': 'Y2lzY29zcGFyazovL3VzL1BFT1BMRS9jZDRmMTkzNi05ZTc3LTQ5YTgtOGYyZS1mNDRmNWFiNjI3YmE',\n",
              "   'id': 'Y2lzY29zcGFyazovL3VybjpURUFNOmV1LWNlbnRyYWwtMV9rL1JPT00vOTNlOWVmNmQtMDk5MS0zYTc2LTlmMjQtMzA4NDI1NDM4NGE5',\n",
              "   'isLocked': False,\n",
              "   'lastActivity': '2021-02-18T11:30:24.898Z',\n",
              "   'ownerId': 'Y2lzY29zcGFyazovL3VzL09SR0FOSVpBVElPTi8yZWUyOGY0OS01OGNhLTRlZmItOTNmYi1kYTMwODhhMzc3NTY',\n",
              "   'title': 'mubeen',\n",
              "   'type': 'direct'},\n",
              "  {'created': '2021-01-11T04:53:25.398Z',\n",
              "   'creatorId': 'Y2lzY29zcGFyazovL3VzL1BFT1BMRS9jZWVhZmIyMi04MzJhLTRiMjctOGQ4YS03MjkzZGQyY2M3ZGQ',\n",
              "   'id': 'Y2lzY29zcGFyazovL3VybjpURUFNOmV1LWNlbnRyYWwtMV9rL1JPT00vZGU1NGEzYWQtYTIwNi0zYTNmLWI3OWEtMDlmNzQxNjM0YjAy',\n",
              "   'isLocked': False,\n",
              "   'lastActivity': '2021-02-18T11:30:25.428Z',\n",
              "   'ownerId': 'Y2lzY29zcGFyazovL3VzL09SR0FOSVpBVElPTi8yZWUyOGY0OS01OGNhLTRlZmItOTNmYi1kYTMwODhhMzc3NTY',\n",
              "   'title': 'Umam ali',\n",
              "   'type': 'direct'},\n",
              "  {'created': '2021-01-10T16:51:06.442Z',\n",
              "   'creatorId': 'Y2lzY29zcGFyazovL3VzL1BFT1BMRS82MTYyYzNmZS01NTRhLTQ2Y2EtODFiNC0wZjMxZmRmMjgyMTA',\n",
              "   'id': 'Y2lzY29zcGFyazovL3VybjpURUFNOmV1LWNlbnRyYWwtMV9rL1JPT00vMDgzNDZhYTAtNTM2NC0xMWViLWJmYTctMjk5Yzg2NzA1MzI0',\n",
              "   'isLocked': False,\n",
              "   'lastActivity': '2021-02-19T09:53:52.075Z',\n",
              "   'ownerId': 'Y2lzY29zcGFyazovL3VzL09SR0FOSVpBVElPTi8yZWUyOGY0OS01OGNhLTRlZmItOTNmYi1kYTMwODhhMzc3NTY',\n",
              "   'title': 'Developer Space',\n",
              "   'type': 'group'},\n",
              "  {'created': '2021-01-10T14:39:56.460Z',\n",
              "   'creatorId': 'Y2lzY29zcGFyazovL3VzL1BFT1BMRS82MTYyYzNmZS01NTRhLTQ2Y2EtODFiNC0wZjMxZmRmMjgyMTA',\n",
              "   'id': 'Y2lzY29zcGFyazovL3VybjpURUFNOmV1LWNlbnRyYWwtMV9rL1JPT00vMzY3Y2NlZTgtN2UyNC0zOGEyLWI2NjYtZGY1YWU2NTRjYjJm',\n",
              "   'isLocked': False,\n",
              "   'lastActivity': '2021-02-19T09:53:08.620Z',\n",
              "   'ownerId': 'Y2lzY29zcGFyazovL3VzL09SR0FOSVpBVElPTi8yZWUyOGY0OS01OGNhLTRlZmItOTNmYi1kYTMwODhhMzc3NTY',\n",
              "   'title': 'Omer.ilyas',\n",
              "   'type': 'direct'},\n",
              "  {'created': '2020-12-30T21:21:01.189Z',\n",
              "   'creatorId': 'Y2lzY29zcGFyazovL3VzL1BFT1BMRS82MTYyYzNmZS01NTRhLTQ2Y2EtODFiNC0wZjMxZmRmMjgyMTA',\n",
              "   'id': 'Y2lzY29zcGFyazovL3VybjpURUFNOmV1LWNlbnRyYWwtMV9rL1JPT00vZWE3YjczNTAtNGFlNC0xMWViLWIzMjYtN2YwY2ZmYmQ2NDA4',\n",
              "   'isLocked': True,\n",
              "   'lastActivity': '2021-01-12T23:51:58.222Z',\n",
              "   'ownerId': 'Y2lzY29zcGFyazovL3VzL09SR0FOSVpBVElPTi8yZWUyOGY0OS01OGNhLTRlZmItOTNmYi1kYTMwODhhMzc3NTY',\n",
              "   'title': 'Developers',\n",
              "   'type': 'group'}]}"
            ]
          },
          "metadata": {
            "tags": []
          },
          "execution_count": 15
        }
      ]
    },
    {
      "cell_type": "code",
      "metadata": {
        "id": "1caKpKOSDCcT"
      },
      "source": [
        "url = 'https://webexapis.com/v1/workspaces'\n",
        "\n",
        "params = {\n",
        "}\n",
        "\n",
        "# authorization is achieved by passing the access token in an authorization header\n",
        "headers = {'Authorization' : f'Bearer {client.access_token}',\n",
        "          'Content-type' : 'application/json; charset=utf-8'}\n",
        "\n",
        "r = requests.get(url, headers=headers)\n",
        "\n",
        "# raise an exception in case the request failed\n",
        "r.raise_for_status()\n",
        "\n",
        "# use the json() method of the response object to get the response\n",
        "r = r.json()\n",
        "workspaces = r['items']"
      ],
      "execution_count": null,
      "outputs": []
    },
    {
      "cell_type": "code",
      "metadata": {
        "colab": {
          "base_uri": "https://localhost:8080/"
        },
        "id": "eP19YRIb4kfI",
        "outputId": "21921bbb-3ff5-424e-ec53-02227004354a"
      },
      "source": [
        "url = 'https://webexapis.com/v1/devices/activationCode'\n",
        "\n",
        "params = {\n",
        "    'placeId' : workspaces[0]['id']\n",
        "}\n",
        "\n",
        "# authorization is achieved by passing the access token in an authorization header\n",
        "headers = {'Authorization' : f'Bearer {client.access_token}',\n",
        "          'Content-type' : 'application/json; charset=utf-8'}\n",
        "\n",
        "r = requests.post(url, json=params,headers=headers)\n",
        "\n",
        "# raise an exception in case the request failed\n",
        "r.raise_for_status()\n",
        "\n",
        "# use the json() method of the response object to get the response\n",
        "r = r.json()\n",
        "r"
      ],
      "execution_count": null,
      "outputs": [
        {
          "output_type": "execute_result",
          "data": {
            "text/plain": [
              "{'code': '4573964275883937', 'expiryTime': '2021-02-26T11:04:01.547Z'}"
            ]
          },
          "metadata": {
            "tags": []
          },
          "execution_count": 36
        }
      ]
    },
    {
      "cell_type": "code",
      "metadata": {
        "colab": {
          "base_uri": "https://localhost:8080/"
        },
        "id": "Ic09x4Uu5bqv",
        "outputId": "adfa95de-1c6e-4636-a5ea-e39a38d55b8e"
      },
      "source": [
        "!pip install qrcode"
      ],
      "execution_count": null,
      "outputs": [
        {
          "output_type": "stream",
          "text": [
            "Collecting qrcode\n",
            "  Downloading https://files.pythonhosted.org/packages/42/87/4a3a77e59ab7493d64da1f69bf1c2e899a4cf81e51b2baa855e8cc8115be/qrcode-6.1-py2.py3-none-any.whl\n",
            "Requirement already satisfied: six in /usr/local/lib/python3.6/dist-packages (from qrcode) (1.15.0)\n",
            "Installing collected packages: qrcode\n",
            "Successfully installed qrcode-6.1\n"
          ],
          "name": "stdout"
        }
      ]
    },
    {
      "cell_type": "code",
      "metadata": {
        "id": "alGFpd1b9rd_"
      },
      "source": [
        "import qrcode\n",
        "img = qrcode.make(r['code'])"
      ],
      "execution_count": null,
      "outputs": []
    },
    {
      "cell_type": "code",
      "metadata": {
        "colab": {
          "base_uri": "https://localhost:8080/",
          "height": 307
        },
        "id": "5Zy9LU9_9wEP",
        "outputId": "3ac9c085-b4cd-4a0f-83e8-fdc98384eee8"
      },
      "source": [
        "img"
      ],
      "execution_count": null,
      "outputs": [
        {
          "output_type": "execute_result",
          "data": {
            "image/png": "[encoded data removed]",
            "text/plain": [
              "<qrcode.image.pil.PilImage at 0x7f1516394e48>"
            ]
          },
          "metadata": {
            "tags": []
          },
          "execution_count": 39
        }
      ]
    },
    {
      "cell_type": "code",
      "metadata": {
        "id": "0W0rom3d9wwR"
      },
      "source": [
        ""
      ],
      "execution_count": null,
      "outputs": []
    }
  ]
}