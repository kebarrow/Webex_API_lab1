{
 "cells": [
  {
   "cell_type": "markdown",
   "metadata": {},
   "source": [
    "# Webex Teams Widget on Flask Python3 Server\n",
    "\n",
    "![Cisco Webex Logo](https://logos-download.com/wp-content/uploads/2017/01/Cisco_Webex_logo_wordmark.png)\n",
    "\n",
    "#### Flask\n",
    "Flask is a micro web framework written in Python. It is classified as a microframework because it does not require particular tools or libraries. It has no database abstraction layer, form validation, or any other components where pre-existing third-party libraries provide common functions.\n",
    "\n",
    "## Code Documentation\n",
    "\n",
    "This flask code will render **WEBEX TEAMS SPACE WIDGET**. This code will automatically generate JWT/Access Code for the widget according to the creds provided in data.txt.\n",
    "\n",
    "#### To Run in Localhost settings:\n",
    "\n",
    "To run this code in localhost setting (development purposes), you need to download extension to allow CORS requests. Download links:\n",
    "<a href=\"https://addons.mozilla.org/en-US/firefox/addon/access-control-allow-origin/\">Mozilla Firefox</a>\n",
    "<a href=\"https://chrome.google.com/webstore/detail/allow-cors-access-control/lhobafahddgcelffkeicbaginigeejlf?hl=en\">Google Chrome</a>\n",
    "\n",
    "### App.py"
   ]
  },
  {
   "cell_type": "code",
   "execution_count": null,
   "metadata": {},
   "outputs": [],
   "source": [
    "from flask import Flask, render_template\n",
    "from flask_cors import CORS #for handling CORS request TO localhost:5000\n",
    "from flask_cors.decorator import cross_origin\n",
    "# import webexteamssdk #NEW WEBEX TEAMS SDK FOR DEV PURPOSES\n",
    "from guest import GetJWT, GetAccessToken\n",
    "\n",
    "jsonWebToken = GetJWT('guest-user-001','VIP')\n",
    "accessToken = GetAccessToken(jsonWebToken.decode())\n",
    "\n",
    "app = Flask(__name__)\n",
    "app.config['CORS_HEADERS'] = 'Content-Type'\n",
    "CORS(app)\n",
    "\n",
    "guestToken_cors_config = {\n",
    "    'origins' : ['https:locahost:5000'],\n",
    "    'methods' : ['GET', 'POST', 'OPTIONS']\n",
    "} \n",
    "\n",
    "CORS(app, resources={\n",
    "r'/*': guestToken_cors_config\n",
    "})\n",
    "\n",
    "api = webexteamssdk.WebexTeamsAPI(accessToken) #for future use\n",
    "\n",
    "@app.route('/guestToken', methods=[\"GET\"])\n",
    "@cross_origin()\n",
    "\n",
    "def guest():\n",
    "    guest = {}\n",
    "    guest['jwt'] = jsonWebToken.decode() #converting bytestream into string\n",
    "    return render_template(\"base.html\", token=guest) #sending guestToken into index.html\n",
    "\n",
    "if __name__ == '__main__': \n",
    "    app.run(host='127.0.0.1', port=5000, debug=True)\n"
   ]
  },
  {
   "cell_type": "markdown",
   "metadata": {},
   "source": [
    "### Guest.py\n",
    "\n",
    "data.txt contains two parameters; issuerId and secret.\n",
    "Format of data.txt is:\n",
    "***\n",
    "issuer_id:XXXXX\\nsecret_enc:YYYY\n",
    "***\n"
   ]
  },
  {
   "cell_type": "code",
   "execution_count": null,
   "metadata": {},
   "outputs": [],
   "source": [
    "import jwt\n",
    "import base64\n",
    "import datetime\n",
    "import requests, json\n",
    "\n",
    "def GetJWT(unique_title, guest_name):\n",
    "    \n",
    "    with open('data.txt', 'r') as file:\n",
    "    data = file.readlines()\n",
    "    Issuer_Secret = [d.split(\":\")[1].split('\\n')[0] for d in data] #[0] = IssuerId, [1] = Secret_enc\n",
    "\n",
    "    header = {\n",
    "        \"typ\": \"JWT\",  # standard is jwt\n",
    "        \"alg\": \"HS256\"  # encryption is hash256\n",
    "        }\n",
    "\n",
    "    payload = {\n",
    "      \"sub\": unique_title, #your guest title (should be unique)\n",
    "      \"name\": guest_name,  #name of your guest\n",
    "      \"iss\": Issuer_Secret[0],\n",
    "      \"exp\": datetime.datetime.utcnow() + datetime.timedelta(minutes=60)\n",
    "      }\n",
    "\n",
    "    secret = base64.b64decode(Issuer_Secret[1])\n",
    "    jsonWebToken = jwt.encode(payload, secret, algorithm=\"HS256\", headers=header)\n",
    "    return jsonWebToken\n",
    "\n",
    "def GetAccessToken(jsonWebToken):\n",
    "    AccessReq = requests.post('https://webexapis.com/v1/jwt/login',headers={'Authorization' : f'Bearer {jsonWebToken}'}).json()\n",
    "    return AccessReq[\"token\"]"
   ]
  },
  {
   "cell_type": "markdown",
   "metadata": {},
   "source": [
    "Below is index.html which is taking token.jwt from app.py file via *jinga2* and rendering this basic template.\n",
    "\n",
    "### Index.html"
   ]
  },
  {
   "cell_type": "raw",
   "metadata": {},
   "source": [
    "<!DOCTYPE html>\n",
    "<html>\n",
    "  <head>\n",
    "    <link \n",
    "rel=\"stylesheet\"\n",
    "href=\"https://code.s4d.io/widget-space/production/main.css\"> \n",
    "<script \n",
    "src=\"https://code.s4d.io/widget-space/production/bundle.js\">\n",
    "</script>\n",
    "  </head>\n",
    "  <body>\n",
    "    <div id=\"my-webex-widget\" style=\"width: 500px; height: 500px;\"/>\n",
    "    <script>\n",
    "      var widgetEl = document.getElementById('my-webex-widget');\n",
    "      webex.widget(widgetEl).spaceWidget({\n",
    "      guestToken: \"{{token.jwt}}\",\n",
    "      destinationId: 'Y2lzY29zcGFyazovL3VybjpURUFNOmV1LWNlbnRyYWwtMV9rL1JPT00vNjZlODM3MTAtOTdhMy0xMWViLThiYzYtMjNiZTA5ZWYzMDAw',\n",
    "      destinationType: 'spaceId',\n",
    "      });\n",
    "    </script> \n",
    "    <!-- {% block body %}{% endblock %}\n",
    "    {% block script %}{% endblock %} -->\n",
    "  </body>\n",
    "</html>\n"
   ]
  },
  {
   "cell_type": "markdown",
   "metadata": {},
   "source": []
  }
 ],
 "metadata": {
  "kernelspec": {
   "display_name": "Python 3",
   "language": "python",
   "name": "python3"
  },
  "language_info": {
   "codemirror_mode": {
    "name": "ipython",
    "version": 3
   },
   "file_extension": ".py",
   "mimetype": "text/x-python",
   "name": "python",
   "nbconvert_exporter": "python",
   "pygments_lexer": "ipython3",
   "version": "3.8.1"
  }
 },
 "nbformat": 4,
 "nbformat_minor": 2
}
